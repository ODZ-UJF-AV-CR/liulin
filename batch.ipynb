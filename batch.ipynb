{
 "metadata": {
  "name": ""
 },
 "nbformat": 3,
 "nbformat_minor": 0,
 "worksheets": [
  {
   "cells": [
    {
     "cell_type": "code",
     "collapsed": false,
     "input": [
      "import pandas as pd\n",
      "import matplotlib.pyplot as plt\n",
      "import scipy as sp\n",
      "import numpy\n",
      "import xml.etree.ElementTree as ET\n",
      "from glob import glob\n",
      "import datetime"
     ],
     "language": "python",
     "metadata": {},
     "outputs": [],
     "prompt_number": 1
    },
    {
     "cell_type": "code",
     "collapsed": false,
     "input": [
      "def round_dt(dt): # round time to whole minutes\n",
      "    dt = dt + datetime.timedelta(seconds=30, microseconds=999999)\n",
      "    dt = dt.replace(second=0, microsecond=0)\n",
      "    return dt\n",
      "\n",
      "\n",
      "# process all files\n",
      "\n",
      "for directory in glob('./data/*/'): # search for measurement runs\n",
      "    for filename in glob( directory + 'Liulin/*.y*'): # search for Liuline files\n",
      "\n",
      "        # extract time\n",
      "        path = filename.split('/')\n",
      "        time = path[-1].split('.')\n",
      "        date_object = datetime.datetime.strptime(time[0], '%y%m%d%H%M')\n",
      "        print date_object\n",
      "        \n",
      "        # read data\n",
      "        liulin = pd.read_csv(filename, header = None, sep = ' ', skiprows = 1) # read Liulin data Y\n",
      "        liulin = liulin.drop(256, axis=1) # delete last empty column\n",
      "        infile = open(filename, 'r')\n",
      "        print infile.readline() # print data header\n",
      "        \n",
      "        #'''       \n",
      "        # sum energy\n",
      "        energy_scale = linspace(0.0407, 20.7977, 256)\n",
      "        liulin = liulin.multiply(energy_scale)\n",
      "        liulin[0] = liulin.sum(axis=1)\n",
      "        #'''        \n",
      "        \n",
      "        # index liulin data (compute time)\n",
      "        liulin_data = pd.DataFrame(index = pd.date_range(date_object, freq='5T', periods=len(liulin)).tolist(), data = liulin.as_matrix())\n",
      "\n",
      "\n",
      "    nav_data = pd.DataFrame()\n",
      "    \n",
      "    for file in glob(directory + '/Navigation data/*.xml'): #search for navigation data\n",
      "        #print file\n",
      "        try:\n",
      "            tree = ET.parse(file) # parse XML\n",
      "            values = tree.findall('./FlightTrack/Position')\n",
      "\n",
      "            data = pd.DataFrame({\n",
      "                             'line' : tree.find('./FlightInfo/FlightLine').text, # !!! IMZ\n",
      "                             'from' : tree.find('./FlightInfo/Org').text,\n",
      "                             'to' : tree.find('./FlightInfo/Dst').text,\n",
      "                             'lon' : [value.find('Longtitude').text for value in values],\n",
      "                             'lat' : [value.find('Latitude').text for value in values],\n",
      "                             'alt' : [value.find('Baralt').text for value in values],\n",
      "                             }, index=[round_dt(datetime.datetime.strptime(value.find('Time').text, \"%Y-%m-%d %H:%M:%S\")) for value in values])\n",
      "        \n",
      "            nav_data = pd.concat([data,nav_data]) # add nav_data from one file\n",
      "        except:\n",
      "            print 'ERROR ' + file\n",
      "            continue\n",
      "    \n",
      "    data = nav_data.join(liulin_data) # merge liulin data with navigation data\n",
      "    data = data.dropna(subset=[7]) # delele NaN lines\n",
      "    data.index.name = 'time'\n",
      "    data = data.sort_index() # sort by time\n",
      "\n",
      "    data.to_csv('./output/' + time[0] + '.csv') # save merged data to output directory\n",
      "\n"
     ],
     "language": "python",
     "metadata": {},
     "outputs": [
      {
       "output_type": "stream",
       "stream": "stdout",
       "text": [
        "2012-11-21 08:21:00\n",
        "MDU-06  EXPOSITION = 300[sec]\r\n"
       ]
      },
      {
       "output_type": "stream",
       "stream": "stdout",
       "text": [
        "\n",
        "2011-02-09 10:39:00"
       ]
      },
      {
       "output_type": "stream",
       "stream": "stdout",
       "text": [
        "\n",
        "MDU-06  EXPOSITION = 300[sec]\r\n"
       ]
      },
      {
       "output_type": "stream",
       "stream": "stdout",
       "text": [
        "\n",
        "ERROR ./data/9-2-2011_8-4-2011//Navigation data/RAD_OK-OER_CSA180  _2011-03-31.xml"
       ]
      },
      {
       "output_type": "stream",
       "stream": "stdout",
       "text": [
        "\n",
        "ERROR ./data/9-2-2011_8-4-2011//Navigation data/RAD_OK-OER_CSA182  _2011-03-24.xml"
       ]
      },
      {
       "output_type": "stream",
       "stream": "stdout",
       "text": [
        "\n",
        "ERROR ./data/9-2-2011_8-4-2011//Navigation data/RAD_OK-OER_CSA180  _2011-04-07.xml"
       ]
      },
      {
       "output_type": "stream",
       "stream": "stdout",
       "text": [
        "\n",
        "ERROR ./data/9-2-2011_8-4-2011//Navigation data/RAD_OK-OER_CSA182  _2011-02-21.xml"
       ]
      },
      {
       "output_type": "stream",
       "stream": "stdout",
       "text": [
        "\n",
        "ERROR ./data/9-2-2011_8-4-2011//Navigation data/RAD_OK-OER_CSA181  _2011-04-08.xml"
       ]
      },
      {
       "output_type": "stream",
       "stream": "stdout",
       "text": [
        "\n",
        "ERROR ./data/9-2-2011_8-4-2011//Navigation data/RAD_OK-OER_CSA184  _2011-04-06.xml"
       ]
      },
      {
       "output_type": "stream",
       "stream": "stdout",
       "text": [
        "\n",
        "2012-09-05 12:46:00"
       ]
      },
      {
       "output_type": "stream",
       "stream": "stdout",
       "text": [
        "\n",
        "MDU-06  EXPOSITION = 300[sec]\r\n"
       ]
      },
      {
       "output_type": "stream",
       "stream": "stdout",
       "text": [
        "\n",
        "2010-08-18 16:37:00"
       ]
      },
      {
       "output_type": "stream",
       "stream": "stdout",
       "text": [
        "\n",
        "MDU-06  EXPOSITION = 300[sec]\r\n"
       ]
      },
      {
       "output_type": "stream",
       "stream": "stdout",
       "text": [
        "\n",
        "2012-04-04 07:29:00"
       ]
      },
      {
       "output_type": "stream",
       "stream": "stdout",
       "text": [
        "\n",
        "MDU-06  EXPOSITION = 300[sec]\r\n"
       ]
      },
      {
       "output_type": "stream",
       "stream": "stdout",
       "text": [
        "\n",
        "2012-02-02 08:55:00"
       ]
      },
      {
       "output_type": "stream",
       "stream": "stdout",
       "text": [
        "\n",
        "MDU-06  EXPOSITION = 300[sec]\r\n"
       ]
      },
      {
       "output_type": "stream",
       "stream": "stdout",
       "text": [
        "\n",
        "2013-10-24 07:30:00"
       ]
      },
      {
       "output_type": "stream",
       "stream": "stdout",
       "text": [
        "\n",
        "MDU-07  EXPOSITION = 300[sec]\r\n"
       ]
      },
      {
       "output_type": "stream",
       "stream": "stdout",
       "text": [
        "\n",
        "ERROR ./data/24-10-2013_13-1-2014//Navigation data/RAD_OK-YBA_6150_2014-01-10.xml"
       ]
      },
      {
       "output_type": "stream",
       "stream": "stdout",
       "text": [
        "\n",
        "ERROR ./data/24-10-2013_13-1-2014//Navigation data/RAD_OK-YBA_191_2013-10-31.xml"
       ]
      },
      {
       "output_type": "stream",
       "stream": "stdout",
       "text": [
        "\n",
        "ERROR ./data/24-10-2013_13-1-2014//Navigation data/RAD_OK-YBA_190_2013-12-28.xml"
       ]
      },
      {
       "output_type": "stream",
       "stream": "stdout",
       "text": [
        "\n",
        "2010-11-25 16:22:00"
       ]
      },
      {
       "output_type": "stream",
       "stream": "stdout",
       "text": [
        "\n",
        "MDU-06  EXPOSITION = 300[sec]\r\n"
       ]
      },
      {
       "output_type": "stream",
       "stream": "stdout",
       "text": [
        "\n",
        "2012-07-03 06:56:00"
       ]
      },
      {
       "output_type": "stream",
       "stream": "stdout",
       "text": [
        "\n",
        "MDU-06  EXPOSITION = 300[sec]\r\n"
       ]
      },
      {
       "output_type": "stream",
       "stream": "stdout",
       "text": [
        "\n"
       ]
      }
     ],
     "prompt_number": 2
    },
    {
     "cell_type": "code",
     "collapsed": false,
     "input": [],
     "language": "python",
     "metadata": {},
     "outputs": []
    }
   ],
   "metadata": {}
  }
 ]
}