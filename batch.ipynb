{
 "metadata": {
  "name": ""
 },
 "nbformat": 3,
 "nbformat_minor": 0,
 "worksheets": [
  {
   "cells": [
    {
     "cell_type": "code",
     "collapsed": false,
     "input": [
      "import sys\n",
      "import pandas as pd\n",
      "import matplotlib.pyplot as plt\n",
      "import scipy as sp\n",
      "import numpy\n",
      "import xml.etree.ElementTree as ET\n",
      "from glob import glob\n",
      "import datetime"
     ],
     "language": "python",
     "metadata": {},
     "outputs": [],
     "prompt_number": 2
    },
    {
     "cell_type": "code",
     "collapsed": false,
     "input": [
      "def round_dt(dt): # round time to whole minutes\n",
      "    dt = dt + datetime.timedelta(seconds=30, microseconds=999999)\n",
      "    dt = dt.replace(second=0, microsecond=0)\n",
      "    return dt\n",
      "\n",
      "\n",
      "# process all directories\n",
      "\n",
      "for directory in glob('./data/*/'): # search for measurement runs\n",
      "    for filename in glob( directory + 'Liulin/*.y*'): # search for Liuline files\n",
      "\n",
      "        print '----------------------------------------------------------------------'\n",
      "        print directory\n",
      "        # parse Run number from the directory name\n",
      "        run = directory.split('/')\n",
      "        run = run[2].split('(')\n",
      "        run = run[0].split('.')\n",
      "        \n",
      "        # extract time from Liulin filename\n",
      "        path = filename.split('/')\n",
      "        time = path[-1].split('.')\n",
      "        date_object = datetime.datetime.strptime(time[0], '%y%m%d%H%M')\n",
      "        print date_object\n",
      "        \n",
      "        # read data from Liulin \n",
      "        liulin = pd.read_csv(filename, header = None, sep = ' ', skiprows = 1) # read Liulin data Y\n",
      "        liulin = liulin.drop(256, axis=1) # delete last empty column\n",
      "        infile = open(filename, 'r')\n",
      "        print infile.readline() # print data header\n",
      "        \n",
      "        # sum energy\n",
      "        energy_scale = linspace(0.0407, 20.7977, 256)    # 0.0814 MeV per channel\n",
      "        uGy_const = 1.602e-7 / 1.398e-4 * (3600/300)     # to uGy/h for 300 s\n",
      "        liulin_energy = liulin\n",
      "        liulin_energy = liulin_energy.multiply(energy_scale)\n",
      "        liulin[256] = liulin_energy.sum(axis=1) * uGy_const # DSi\n",
      "        liulin[257] = liulin_energy.ix[:,0:11].sum(axis=1) * uGy_const * 1.7 + liulin_energy.ix[:,12:255].sum(axis=1) * uGy_const * 6.1 # H\n",
      "       \n",
      "        # index liulin data (compute time)\n",
      "        liulin_data = pd.DataFrame(index = pd.date_range(date_object, freq='5T', periods=len(liulin)).tolist(), data = liulin.as_matrix())\n",
      "\n",
      "\n",
      "    # Parse Navigation data\n",
      "    nav_data = pd.DataFrame()\n",
      "    \n",
      "    for file in glob(directory + 'Navigation data/*.xml'): #search for navigation data\n",
      "        #print file\n",
      "        try:\n",
      "            tree = ET.parse(file) # parse XML\n",
      "            values = tree.findall('./FlightTrack/Position')\n",
      "    \n",
      "            data = pd.DataFrame({\n",
      "                             #'time' : round_dt(datetime.datetime.strptime(value.find('Time').text, \"%Y-%m-%d %H:%M:%S\")), \n",
      "                             #'line' : tree.find('./FlightInfo/FlightLine').text, # !!! IMZ\n",
      "                             'from' : tree.findtext('./FlightInfo/Org',default='XXX'),\n",
      "                             'to' : tree.findtext('./FlightInfo/Dst',default='XXX'),\n",
      "                             'lon' : [value.find('Longtitude').text for value in values],\n",
      "                             'lat' : [value.find('Latitude').text for value in values],\n",
      "                             'alt' : [value.find('Baralt').text for value in values],\n",
      "                             }, index=[round_dt(datetime.datetime.strptime(value.find('Time').text, \"%Y-%m-%d %H:%M:%S\")) for value in values])\n",
      "        \n",
      "            nav_data = pd.concat([data,nav_data]) # add nav_data from one file\n",
      "        except:\n",
      "            print 'ERROR parse XML: ' + file\n",
      "            print sys.exc_info()\n",
      "            continue\n",
      "\n",
      "    # Merge data\n",
      "    data = nav_data.join(liulin_data) # merge liulin data with navigation data\n",
      "    data.rename(columns={256: 'DSi', 257: 'H'}, inplace=True)\n",
      "    data = data.dropna(subset=[7]) # delele NaN lines\n",
      "    #data.index.name = 'time'\n",
      "    #data = data.sort_index() # sort by time\n",
      "    try:\n",
      "        data['flight'] = '*' + data['from'] + data['to']\n",
      "        data['E'] = 0.0\n",
      "    except:\n",
      "        print 'ERROR no data:', directory\n",
      "        print\n",
      "        continue\n",
      "    \n",
      "    # rearrange culomns    \n",
      "    out = data[['flight','lat','lon','alt','DSi','H', 'E']+list(xrange(256))]\n",
      "    out.reset_index(inplace=True)\n",
      "    out.columns = ['date','Flight','lat','lon','alt','DSi[uGy/h]','H*(10)[uSv/h]','E(CARI)[uSv/h]']+list(xrange(1,257))\n",
      "    out.set_index('date',inplace=True)\n",
      "    out.sort_index(inplace=True) # sort by time\n",
      "\n",
      "    # save\n",
      "    out.to_csv('./output/Run' + run[0] + '.txt', sep='\\t') # save merged data to output directory\n",
      "\n"
     ],
     "language": "python",
     "metadata": {},
     "outputs": [
      {
       "output_type": "stream",
       "stream": "stdout",
       "text": [
        "----------------------------------------------------------------------\n",
        "./data/39(24-10-2013_13-1-2014)/\n",
        "2013-10-24 07:30:00\n",
        "MDU-07  EXPOSITION = 300[sec]\r\n"
       ]
      },
      {
       "output_type": "stream",
       "stream": "stdout",
       "text": [
        "\n",
        "----------------------------------------------------------------------"
       ]
      },
      {
       "output_type": "stream",
       "stream": "stdout",
       "text": [
        "\n",
        "./data/37(21-11-2012_3-2-2013)/\n",
        "2012-11-21 08:21:00\n",
        "MDU-06  EXPOSITION = 300[sec]\r\n"
       ]
      },
      {
       "output_type": "stream",
       "stream": "stdout",
       "text": [
        "\n",
        "----------------------------------------------------------------------"
       ]
      },
      {
       "output_type": "stream",
       "stream": "stdout",
       "text": [
        "\n",
        "./data/40. (13. 01. 2014-28. 03. 2014)/\n",
        "2014-01-13 13:37:00\n",
        "MDU-07  EXPOSITION = 300[sec]\r\n"
       ]
      },
      {
       "output_type": "stream",
       "stream": "stdout",
       "text": [
        "\n",
        "----------------------------------------------------------------------"
       ]
      },
      {
       "output_type": "stream",
       "stream": "stdout",
       "text": [
        "\n",
        "./data/41. (26. 06. 2014-12. 08. 2014)/\n",
        "2014-06-26 12:03:00\n",
        "MDU-07  EXPOSITION = 300[sec]\r\n"
       ]
      },
      {
       "output_type": "stream",
       "stream": "stdout",
       "text": [
        "\n",
        "----------------------------------------------------------------------"
       ]
      },
      {
       "output_type": "stream",
       "stream": "stdout",
       "text": [
        "\n",
        "./data/32. (15. 11. 2011-26. 01. 2012)/\n",
        "2011-11-15 08:56:00\n",
        "MDU-06  EXPOSITION = 300[sec]\r\n"
       ]
      },
      {
       "output_type": "stream",
       "stream": "stdout",
       "text": [
        "\n",
        "----------------------------------------------------------------------"
       ]
      },
      {
       "output_type": "stream",
       "stream": "stdout",
       "text": [
        "\n",
        "./data/33(2-2-2012_4-4-2012)/\n",
        "2012-02-02 08:55:00\n",
        "MDU-06  EXPOSITION = 300[sec]\r\n"
       ]
      },
      {
       "output_type": "stream",
       "stream": "stdout",
       "text": [
        "\n",
        "----------------------------------------------------------------------"
       ]
      },
      {
       "output_type": "stream",
       "stream": "stdout",
       "text": [
        "\n",
        "./data/34(4-4-2012_15_06_2012)/\n",
        "2012-04-04 07:29:00\n",
        "MDU-06  EXPOSITION = 300[sec]\r\n"
       ]
      },
      {
       "output_type": "stream",
       "stream": "stdout",
       "text": [
        "\n",
        "----------------------------------------------------------------------"
       ]
      },
      {
       "output_type": "stream",
       "stream": "stdout",
       "text": [
        "\n",
        "./data/35(3-7-2012_5-9-2012)/\n",
        "2012-07-03 06:56:00\n",
        "MDU-06  EXPOSITION = 300[sec]\r\n"
       ]
      },
      {
       "output_type": "stream",
       "stream": "stdout",
       "text": [
        "\n",
        "----------------------------------------------------------------------"
       ]
      },
      {
       "output_type": "stream",
       "stream": "stdout",
       "text": [
        "\n",
        "./data/43. (18. 03. 2015-20. 06. 2015)/\n",
        "2015-03-18 06:55:00\n",
        "MDU-07  EXPOSITION = 300[sec]\r\n"
       ]
      },
      {
       "output_type": "stream",
       "stream": "stdout",
       "text": [
        "\n",
        "----------------------------------------------------------------------"
       ]
      },
      {
       "output_type": "stream",
       "stream": "stdout",
       "text": [
        "\n",
        "./data/42. (14. 08. 2014-24. 09. 2014)/\n",
        "2014-08-14 07:39:00\n",
        "MDU-07  EXPOSITION = 300[sec]\r\n"
       ]
      },
      {
       "output_type": "stream",
       "stream": "stdout",
       "text": [
        "\n",
        "----------------------------------------------------------------------"
       ]
      },
      {
       "output_type": "stream",
       "stream": "stdout",
       "text": [
        "\n",
        "./data/36(5-9-2012_18-10-2012)/\n",
        "2012-09-05 12:46:00\n",
        "MDU-06  EXPOSITION = 300[sec]\r\n"
       ]
      },
      {
       "output_type": "stream",
       "stream": "stdout",
       "text": [
        "\n",
        "----------------------------------------------------------------------"
       ]
      },
      {
       "output_type": "stream",
       "stream": "stdout",
       "text": [
        "\n",
        "./data/38. (17. 07. 2013-10. 10. 2013)/\n",
        "2013-07-17 17:52:00\n",
        "MDU-07  EXPOSITION = 300[sec]\r\n"
       ]
      },
      {
       "output_type": "stream",
       "stream": "stdout",
       "text": [
        "\n"
       ]
      }
     ],
     "prompt_number": 5
    },
    {
     "cell_type": "code",
     "collapsed": false,
     "input": [],
     "language": "python",
     "metadata": {},
     "outputs": []
    }
   ],
   "metadata": {}
  }
 ]
}