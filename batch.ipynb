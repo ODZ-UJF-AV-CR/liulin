{
 "metadata": {
  "name": ""
 },
 "nbformat": 3,
 "nbformat_minor": 0,
 "worksheets": [
  {
   "cells": [
    {
     "cell_type": "code",
     "collapsed": false,
     "input": [
      "import pandas as pd\n",
      "import matplotlib.pyplot as plt\n",
      "import scipy as sp\n",
      "import numpy\n",
      "import xml.etree.ElementTree as ET\n",
      "from glob import glob\n",
      "import datetime"
     ],
     "language": "python",
     "metadata": {},
     "outputs": [],
     "prompt_number": 157
    },
    {
     "cell_type": "code",
     "collapsed": false,
     "input": [
      "def round_dt(dt): # round time to whole minutes\n",
      "    dt = dt + datetime.timedelta(seconds=30, microseconds=999999)\n",
      "    dt = dt.replace(second=0, microsecond=0)\n",
      "    return dt\n",
      "\n",
      "\n",
      "# process all files\n",
      "\n",
      "for directory in glob('./data/*/'): # search for measurement runs\n",
      "    for filename in glob( directory + 'Liulin/*.y*'): # search for Liuline files\n",
      "\n",
      "        # extract time\n",
      "        path = filename.split('/')\n",
      "        time = path[-1].split('.')\n",
      "        date_object = datetime.datetime.strptime(time[0], '%y%m%d%H%M')\n",
      "        print date_object\n",
      "        \n",
      "        # read data\n",
      "        liulin = pd.read_csv(filename, header = None, sep = ' ', skiprows = 1) # read Liulin data Y\n",
      "        liulin = liulin.drop(256, axis=1) # delete last empty column\n",
      "        infile = open(filename, 'r')\n",
      "        print infile.readline() # print data header\n",
      "        \n",
      "        # sum energy\n",
      "        energy_scale = linspace(0.0407, 20.7977, 256)\n",
      "        liulin_energy = liulin.multiply(energy_scale)\n",
      "        liulin[256] = liulin_energy[0:255].sum(axis=1)\n",
      "        liulin[257] = liulin_energy[0:255].sum(axis=1)\n",
      "       \n",
      "        # index liulin data (compute time)\n",
      "        liulin_data = pd.DataFrame(index = pd.date_range(date_object, freq='5T', periods=len(liulin)).tolist(), data = liulin.as_matrix())\n",
      "\n",
      "\n",
      "    nav_data = pd.DataFrame()\n",
      "    \n",
      "    for file in glob(directory + '/Navigation data/*.xml'): #search for navigation data\n",
      "        #print file\n",
      "        try:\n",
      "            tree = ET.parse(file) # parse XML\n",
      "            values = tree.findall('./FlightTrack/Position')\n",
      "\n",
      "            data = pd.DataFrame({\n",
      "                             'time' : round_dt(datetime.datetime.strptime(value.find('Time').text, \"%Y-%m-%d %H:%M:%S\")), \n",
      "                             'line' : tree.find('./FlightInfo/FlightLine').text, # !!! IMZ\n",
      "                             'from' : tree.find('./FlightInfo/Org').text,\n",
      "                             'to' : tree.find('./FlightInfo/Dst').text,\n",
      "                             'lon' : [value.find('Longtitude').text for value in values],\n",
      "                             'lat' : [value.find('Latitude').text for value in values],\n",
      "                             'alt' : [value.find('Baralt').text for value in values],\n",
      "                             }, index=[round_dt(datetime.datetime.strptime(value.find('Time').text, \"%Y-%m-%d %H:%M:%S\")) for value in values])\n",
      "        \n",
      "            nav_data = pd.concat([data,nav_data]) # add nav_data from one file\n",
      "        except:\n",
      "            print 'ERROR ' + file\n",
      "            continue\n",
      "\n",
      "    data = nav_data.join(liulin_data) # merge liulin data with navigation data\n",
      "    data.rename(columns={256: 'DSi', 257: 'H'}, inplace=True)\n",
      "    data = data.dropna(subset=[7]) # delele NaN lines\n",
      "    #data.index.name = 'time'\n",
      "    #data = data.sort_index() # sort by time\n",
      "    data['flight'] = data['from'] + data['to']\n",
      "    \n",
      "    out = data[['flight','lat','lon','alt','DSi','H']+list(xrange(256))]\n",
      "    out.reset_index(inplace=True)\n",
      "    out.columns = ['date','Flight','lat','lon','alt','DSi[uGy/h]','H*(10)[uSv/h]']+list(xrange(1,257))\n",
      "    out.set_index('date',inplace=True)\n",
      "    out.sort_index(inplace=True) # sort by time\n",
      "\n",
      "    out.to_csv('./output/' + time[0] + '.csv', sep='\\t') # save merged data to output directory\n",
      "\n"
     ],
     "language": "python",
     "metadata": {},
     "outputs": [
      {
       "output_type": "stream",
       "stream": "stdout",
       "text": [
        "2012-02-02 08:55:00\n",
        "MDU-06  EXPOSITION = 300[sec]\r\n"
       ]
      },
      {
       "output_type": "stream",
       "stream": "stdout",
       "text": [
        "\n"
       ]
      }
     ],
     "prompt_number": 158
    },
    {
     "cell_type": "code",
     "collapsed": false,
     "input": [],
     "language": "python",
     "metadata": {},
     "outputs": []
    }
   ],
   "metadata": {}
  }
 ]
}