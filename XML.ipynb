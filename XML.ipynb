{
 "metadata": {
  "name": ""
 },
 "nbformat": 3,
 "nbformat_minor": 0,
 "worksheets": [
  {
   "cells": [
    {
     "cell_type": "code",
     "collapsed": false,
     "input": [
      "import xml.etree.ElementTree as ET\n",
      "import pandas as pd\n",
      "import datetime"
     ],
     "language": "python",
     "metadata": {},
     "outputs": [],
     "prompt_number": 1
    },
    {
     "cell_type": "code",
     "collapsed": false,
     "input": [
      "tree = ET.parse('./21-11-2012_3-2-2013/Navigation data/RAD_OK-PET_CSA1DZ  _2013-01-15.xml')\n",
      "\n",
      "values = tree.findall('./FlightTrack/Position')\n"
     ],
     "language": "python",
     "metadata": {},
     "outputs": [],
     "prompt_number": 2
    },
    {
     "cell_type": "code",
     "collapsed": false,
     "input": [
      "def round_dt(dt):\n",
      "    dt = dt + datetime.timedelta(seconds=30, microseconds=999999)\n",
      "    dt = dt.replace(second=0, microsecond=0)\n",
      "    return dt\n",
      "\n",
      "data = pd.DataFrame({\n",
      "                     'line' : tree.find('./FlightInfo/FlightLine').text,\n",
      "                     'from' : tree.find('./FlightInfo/Org').text,\n",
      "                     'to' : tree.find('./FlightInfo/Dst').text,\n",
      "                     'lon' : [value.find('Longtitude').text for value in values],\n",
      "                     'lat' : [value.find('Latitude').text for value in values],\n",
      "                     'alt' : [value.find('Baralt').text for value in values],\n",
      "                     }, index=[round_dt(datetime.datetime.strptime(value.find('Time').text, \"%Y-%m-%d %H:%M:%S\")) for value in values])\n",
      "\n",
      "print data.head(10)\n",
      "print data.tail(10)\n"
     ],
     "language": "python",
     "metadata": {},
     "outputs": [
      {
       "output_type": "stream",
       "stream": "stdout",
       "text": [
        "                          alt from      lat      line     lon   to\n",
        "2013-01-15 15:01:00  38992.00  CDG  49.4298  CSA1DZ    5.0859  PRG\n",
        "2013-01-15 15:02:00  38988.00  CDG  49.4645  CSA1DZ    5.2720  PRG\n",
        "2013-01-15 15:03:00  38980.00  CDG  49.4988  CSA1DZ    5.4602  PRG\n",
        "2013-01-15 15:04:00  39040.00  CDG  49.5328  CSA1DZ    5.6469  PRG\n",
        "2013-01-15 15:05:00  38992.00  CDG  49.5668  CSA1DZ    5.8337  PRG\n",
        "2013-01-15 15:06:00  38976.00  CDG  49.6001  CSA1DZ    6.0198  PRG\n",
        "2013-01-15 15:07:00  38980.00  CDG  49.6327  CSA1DZ    6.2059  PRG\n",
        "2013-01-15 15:08:00  39000.00  CDG  49.6650  CSA1DZ    6.3919  PRG\n",
        "2013-01-15 15:09:00  38988.00  CDG  49.6973  CSA1DZ    6.5780  PRG\n",
        "2013-01-15 15:10:00  38992.00  CDG  49.7296  CSA1DZ    6.7641  PRG\n",
        "\n",
        "[10 rows x 6 columns]\n",
        "                          alt from      lat      line     lon   to\n",
        "2013-01-15 15:17:00  38984.00  CDG  49.9448  CSA1DZ    8.0776  PRG\n",
        "2013-01-15 15:18:00  38968.00  CDG  49.9719  CSA1DZ    8.2685  PRG\n",
        "2013-01-15 15:19:00  38988.00  CDG  49.9740  CSA1DZ    8.4656  PRG\n",
        "2013-01-15 15:20:00  38984.00  CDG  49.9757  CSA1DZ    8.6640  PRG\n",
        "2013-01-15 15:21:00  39028.00  CDG  49.9771  CSA1DZ    8.8645  PRG\n",
        "2013-01-15 15:22:00  39000.00  CDG  49.9785  CSA1DZ    9.0643  PRG\n",
        "2013-01-15 15:23:00  39020.00  CDG  49.9788  CSA1DZ    9.2641  PRG\n",
        "2013-01-15 15:24:00  39000.00  CDG  49.9795  CSA1DZ    9.4633  PRG\n",
        "2013-01-15 15:25:00  38992.00  CDG  49.9798  CSA1DZ    9.6603  PRG\n",
        "2013-01-15 15:26:00  38968.00  CDG  49.9798  CSA1DZ    9.8553  PRG\n",
        "\n",
        "[10 rows x 6 columns]\n"
       ]
      }
     ],
     "prompt_number": 63
    },
    {
     "cell_type": "code",
     "collapsed": false,
     "input": [
      "from glob import glob\n",
      "\n",
      "nav_data = pd.DataFrame()\n",
      "\n",
      "for file in glob('./21-11-2012_3-2-2013/Navigation data/*.xml'):\n",
      "    tree = ET.parse(file)\n",
      "    values = tree.findall('./FlightTrack/Position')\n",
      "    data = pd.DataFrame({\n",
      "                     'line' : tree.find('./FlightInfo/FlightLine').text,\n",
      "                     'from' : tree.find('./FlightInfo/Org').text,\n",
      "                     'to' : tree.find('./FlightInfo/Dst').text,\n",
      "                     'lon' : [value.find('Longtitude').text for value in values],\n",
      "                     'lat' : [value.find('Latitude').text for value in values],\n",
      "                     'alt' : [value.find('Baralt').text for value in values],\n",
      "                     }, index=[value.find('Time').text for value in values])\n",
      "    nav_data = pd.concat([data,nav_data])\n",
      "\n",
      "nav_data.to_csv('./ble.csv')"
     ],
     "language": "python",
     "metadata": {},
     "outputs": [],
     "prompt_number": 65
    },
    {
     "cell_type": "code",
     "collapsed": false,
     "input": [],
     "language": "python",
     "metadata": {},
     "outputs": []
    }
   ],
   "metadata": {}
  }
 ]
}