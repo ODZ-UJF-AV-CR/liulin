{
 "metadata": {
  "name": ""
 },
 "nbformat": 3,
 "nbformat_minor": 0,
 "worksheets": [
  {
   "cells": [
    {
     "cell_type": "code",
     "collapsed": false,
     "input": [
      "import fileinput\n",
      "import glob\n",
      "\n",
      "filenames = glob.glob(\"./data/Run*.txt\")\n",
      "filenames = sorted(filenames)\n",
      "outfilename = './data/AllRun.txt'\n",
      "\n",
      "with open(outfilename, 'w') as fout:\n",
      "    line = 'date\tflight\tlat\tlon\talt\tDSi\tH\tE\t1\t2\t3\t4\t5\t6\t7\t8\t9\t10\t11\t12\t13\t14\t15\t16\t17\t18\t19\t20\t21\t22\t23\t24\t25\t26\t27\t28\t29\t30\t31\t32\t33\t34\t35\t36\t37\t38\t39\t40\t41\t42\t43\t44\t45\t46\t47\t48\t49\t50\t51\t52\t53\t54\t55\t56\t57\t58\t59\t60\t61\t62\t63\t64\t65\t66\t67\t68\t69\t70\t71\t72\t73\t74\t75\t76\t77\t78\t79\t80\t81\t82\t83\t84\t85\t86\t87\t88\t89\t90\t91\t92\t93\t94\t95\t96\t97\t98\t99\t100\t101\t102\t103\t104\t105\t106\t107\t108\t109\t110\t111\t112\t113\t114\t115\t116\t117\t118\t119\t120\t121\t122\t123\t124\t125\t126\t127\t128\t129\t130\t131\t132\t133\t134\t135\t136\t137\t138\t139\t140\t141\t142\t143\t144\t145\t146\t147\t148\t149\t150\t151\t152\t153\t154\t155\t156\t157\t158\t159\t160\t161\t162\t163\t164\t165\t166\t167\t168\t169\t170\t171\t172\t173\t174\t175\t176\t177\t178\t179\t180\t181\t182\t183\t184\t185\t186\t187\t188\t189\t190\t191\t192\t193\t194\t195\t196\t197\t198\t199\t200\t201\t202\t203\t204\t205\t206\t207\t208\t209\t210\t211\t212\t213\t214\t215\t216\t217\t218\t219\t220\t221\t222\t223\t224\t225\t226\t227\t228\t229\t230\t231\t232\t233\t234\t235\t236\t237\t238\t239\t240\t241\t242\t243\t244\t245\t246\t247\t248\t249\t250\t251\t252\t253\t254\t255\t256'\n",
      "    fout.write(line)\n",
      "    for line in fileinput.input(filenames):\n",
      "        if line[0] != 'd':\n",
      "            fout.write(line)\n",
      "    "
     ],
     "language": "python",
     "metadata": {},
     "outputs": [],
     "prompt_number": 7
    },
    {
     "cell_type": "code",
     "collapsed": false,
     "input": [
      "import glob\n",
      "print glob.glob(\"./data/Run*.txt\")"
     ],
     "language": "python",
     "metadata": {},
     "outputs": [
      {
       "output_type": "stream",
       "stream": "stdout",
       "text": [
        "['./data/Run41.txt', './data/Run40.txt', './data/Run23.txt', './data/Run03.txt', './data/Run20.txt', './data/Run13.txt', './data/Run07.txt', './data/Run22.txt', './data/Run26.txt', './data/Run35.txt', './data/Run06.txt', './data/Run15.txt', './data/Run18.txt', './data/Run28.txt', './data/Run04.txt', './data/Run34.txt', './data/Run37.txt', './data/Run10.txt', './data/Run17.txt', './data/Run19.txt', './data/Run33.txt', './data/Run31.txt', './data/Run21.txt', './data/Run12.txt', './data/Run30.txt', './data/Run08.txt', './data/Run01.txt', './data/Run29.txt', './data/Run14.txt', './data/Run25.txt', './data/Run24.txt', './data/Run42.txt', './data/Run43.txt', './data/Run36.txt', './data/Run09.txt', './data/Run05.txt', './data/Run27.txt', './data/Run38.txt', './data/Run16.txt', './data/Run11.txt', './data/RunExtra1.txt', './data/Run32.txt', './data/Run39.txt', './data/Run02.txt']\n"
       ]
      }
     ],
     "prompt_number": 2
    },
    {
     "cell_type": "code",
     "collapsed": false,
     "input": [],
     "language": "python",
     "metadata": {},
     "outputs": []
    }
   ],
   "metadata": {}
  }
 ]
}